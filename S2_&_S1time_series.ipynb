{
 "cells": [
  {
   "cell_type": "markdown",
   "metadata": {},
   "source": [
    "# Make a sentinel 1 & 2 time series for field plots\n",
    "\n",
    "The following runs a few python functions to extract Sentinel 2 NDVI time series data from a point GIS files using google earth engine (GEE) and geopandas. This is potentially useful for looking at temporal patterns of NDVI for comparison with other variables and the spatial patterns therein. \n",
    "\n",
    "**Ensure you are running the correct kernel. Look at the top right  it should be [conda env:eot] as seen in the top right.** \n",
    "\n",
    "**If not, Kernel > Change kernel > eot from the menu.** \n",
    "\n",
    "The example is running on countryside survey data which may be accessed via the CEH environmental data centre. Though any geopandas readable point file should work. **Adjust the input dates according to your requirements.**\n",
    "\n",
    "https://eip.ceh.ac.uk/\n",
    "\n",
    "The data is returned as a dataframe as well as written to file and can be easily plotted using pandas native functions. \n",
    "\n",
    "If you wish to see how this has been done, please look at the files in src.\n"
   ]
  },
  {
   "cell_type": "code",
   "execution_count": null,
   "metadata": {},
   "outputs": [],
   "source": [
    "from src.eotimeseries import S2_ts, S1_ts, _points_to_pixel, plot_group, tseries_group\n",
    "import geopandas as gpd\n",
    "import pandas as pd\n",
    "from matplotlib import pyplot as plt\n",
    "import numpy as np"
   ]
  },
  {
   "cell_type": "markdown",
   "metadata": {},
   "source": [
    "Read in a point shapefile and define a name for the new one. \n",
    "\n",
    "**Please obtain the CSS / field survey data from CEH**"
   ]
  },
  {
   "cell_type": "code",
   "execution_count": null,
   "metadata": {},
   "outputs": [],
   "source": [
    "inShp = 'mycss.shp'\n",
    "\n",
    "outfile = 'example_NDVI_S2.shp'\n",
    "\n",
    "gdf = gpd.read_file(inShp)\n",
    "\n",
    "#sanity check\n",
    "gdf.head()"
   ]
  },
  {
   "cell_type": "markdown",
   "metadata": {},
   "source": [
    "Quickly plot the coords...."
   ]
  },
  {
   "cell_type": "code",
   "execution_count": null,
   "metadata": {},
   "outputs": [],
   "source": [
    "# Sanity check 2.....\n",
    "uk = gpd.read_file(\"uk.shp\")\n",
    "\n",
    "base = uk.plot(color='white', edgecolor='black', figsize=(8, 8))\n",
    "\n",
    "gdf.plot(ax=base, marker='o', color='red', markersize=5);\n"
   ]
  },
  {
   "cell_type": "markdown",
   "metadata": {},
   "source": [
    "The point coordinates should be converted to lat/lon for GEE if not in this format already. \n",
    "As this is a UK example we are going from OSGB to lat/lon.\n"
   ]
  },
  {
   "cell_type": "code",
   "execution_count": null,
   "metadata": {},
   "outputs": [],
   "source": [
    "lons, lats = _points_to_pixel(gdf, espgin='epsg:27700', espgout='epsg:4326')"
   ]
  },
  {
   "cell_type": "markdown",
   "metadata": {},
   "source": [
    "### Now to get the time series\n",
    "\n",
    "This returns a new geo-dataframe which includes the time series data as a variable and also writes a file to disk. \n",
    "\n",
    "The reason for inputting the original gdf from above is to retain the correct index for the shapefile for writing purposes. The secondary reason for this procedure is to avoid uploading any data to GEE directly, thus it is just anonamous coordinates.\n",
    "\n",
    "Some messages will appear updating progress of the task. \n",
    "\n",
    "Key params (most are self explanatory)\n",
    "- ```dist=20``` (the distance in metres from the point - for S2 either 10 or 20)\n",
    "- ```stat=max``` (the aggregate stat from which monthly NDVI is derived - either ```max``` or ```perc``` where perc is 95th percentile\n",
    "- ```collection=\"COPERNICUS/S2\"``` (the collection in question - for the year of interest we are limited to the TOA product, but for 2017 onwards the ```\"COPERNICUS/S2_SR\"``` or L2A surface reflectance are available.\n",
    "\n",
    "The cloud mask is not being used as there is a tendency to lose more data values than is necessary. \n"
   ]
  },
  {
   "cell_type": "code",
   "execution_count": null,
   "metadata": {},
   "outputs": [],
   "source": [
    "newdf = S2_ts(lons, lats, gdf, collection=\"COPERNICUS/S2\", start_date='2016-01-01',\n",
    "      end_date='2016-12-31', dist=20, cloud_mask=False, stat='max', \n",
    "      cloud_perc=100, para=True, outfile=outfile)"
   ]
  },
  {
   "cell_type": "markdown",
   "metadata": {},
   "source": [
    "Have a look and see the ndvi vals are there as expected - they will be under date headings."
   ]
  },
  {
   "cell_type": "code",
   "execution_count": null,
   "metadata": {},
   "outputs": [],
   "source": [
    "newdf.head()"
   ]
  },
  {
   "cell_type": "markdown",
   "metadata": {},
   "source": [
    "Now with a new gpd it is easy enough to plot the spatial pattern of ndvi. "
   ]
  },
  {
   "cell_type": "code",
   "execution_count": null,
   "metadata": {},
   "outputs": [],
   "source": [
    "fig, axes = plt.subplots(ncols=3, figsize=(10, 10))\n",
    "\n",
    "dates = [\"nd-03-31\", \"nd-05-31\", \"nd-11-30\"]\n",
    "\n",
    "for idx, d in enumerate(dates):\n",
    "\n",
    "    newdf.plot(column=d, ax=axes[idx], legend=True, legend_kwds={'orientation': \"horizontal\"})\n"
   ]
  },
  {
   "cell_type": "markdown",
   "metadata": {},
   "source": [
    "### Having processed gained ndvi attributes, it is easy to plot the ndvi time series with a bit of reshaping per survey area\n",
    "\n",
    "As we are using survey data where plots are grouped by the attribute \"SQUARE\", we can plot the ndvi time series for with a function in src with the function from src.\n",
    "```python\n",
    "plot_group(newdf, 'SQUARE', 637, 'nd')\n",
    "```\n",
    "Where:\n",
    "- ```SQUARE``` = the attribute to group by\n",
    "- ```637``` = the index of interest\n",
    "- ```nd``` =  the column keyword of interest eg 'nd' for NDVI\n",
    "\n",
    "It is more than likely the dips in values are due to the presence of clouds, which could be removed by some sort of filtering on the df or directly during the time series download.\n"
   ]
  },
  {
   "cell_type": "code",
   "execution_count": null,
   "metadata": {},
   "outputs": [],
   "source": [
    "plot_group(newdf, 'SQUARE', 637, 'nd')"
   ]
  },
  {
   "cell_type": "markdown",
   "metadata": {},
   "source": [
    "If you wish to see the possible square values to plot see below\n",
    "\n",
    "**This is of course unique to CS plots, but minor adaption could make it work for another attribute**"
   ]
  },
  {
   "cell_type": "code",
   "execution_count": null,
   "metadata": {},
   "outputs": [],
   "source": [
    "np.unique(newdf.SQUARE)"
   ]
  },
  {
   "cell_type": "code",
   "execution_count": null,
   "metadata": {},
   "outputs": [],
   "source": [
    "plot_group(newdf, 'SQUARE', 15, 'nd')"
   ]
  },
  {
   "cell_type": "markdown",
   "metadata": {},
   "source": [
    "### Extract a particular group from the  shapefile\n",
    "\n",
    "```python\n",
    "tseries_group(newdf, name, other_inds=None)\n",
    "```\n",
    "Where:\n",
    "- ```name``` = srting - the attribute to extract ('NDVI' in the case below)\n",
    "- ```other_inds``` = list -  additional attributes to extract for later indexing (not used here)\n",
    "\n",
    "With NDVI as generated in this notebook...."
   ]
  },
  {
   "cell_type": "code",
   "execution_count": null,
   "metadata": {},
   "outputs": [],
   "source": [
    "ndvi = tseries_group(newdf, 'ndvi', other_inds=None)"
   ]
  },
  {
   "cell_type": "markdown",
   "metadata": {},
   "source": [
    "Check it"
   ]
  },
  {
   "cell_type": "code",
   "execution_count": null,
   "metadata": {},
   "outputs": [],
   "source": [
    "ndvi.head()"
   ]
  },
  {
   "cell_type": "markdown",
   "metadata": {},
   "source": [
    "## Sentinel 1\n",
    "\n",
    "Sentinel 1 is a C-Band Synthetic Aperture RADAR (SAR) platform, which given the wavelength of the data does not suffer from cloud cover. Its does encounter other issues on the ground itself (e.g. presence of moisture etc.), but we shall not concern ourselves with this just now. \n",
    "\n",
    "The following functions are pretty much the same as the S2 equivalent, though this time we are using a ratio of [GRD](https://sentinels.copernicus.eu/web/sentinel/technical-guides/sentinel-1-sar/products-algorithms/level-1-algorithms/ground-range-detected) product polarisations to reduce to one variable. \n",
    "\n",
    "This returns a new geo-dataframe which includes the time series data as a variable and also writes a file to disk. \n",
    "\n",
    "The reason for inputting the original gdf from above is to retain the correct index for the shapefile for writing purposes. The secondary reason for this procedure is to avoid uploading any data to GEE directly, thus it is just anonymous coordinates.\n",
    "\n",
    "Some messages will appear updating progress of the task. \n",
    "\n",
    "Key params (most are self explanatory)\n",
    "- ```dist=20``` (the distance in metres from the point - for S2 either 10 or 20)\n",
    "- ```stat=mean``` (the aggregate stat for a month)\n",
    "- ```orbit=\"ASCENDING\"``` (The orbit type - selecting one means a consistent angle)\n",
    "- ```polar``` (Either VV, VH or a ratio of both)\n"
   ]
  },
  {
   "cell_type": "code",
   "execution_count": null,
   "metadata": {},
   "outputs": [],
   "source": [
    "s1out = 'example_S1.shp'"
   ]
  },
  {
   "cell_type": "code",
   "execution_count": null,
   "metadata": {},
   "outputs": [],
   "source": [
    "s1gdf = S1_ts(gdf, lats, lons, start_date='2016-01-01',\n",
    "               end_date='2016-12-31', dist=20,  polar='VVVH',\n",
    "               orbit='ASCENDING', stat='mean', outfile=s1out)"
   ]
  },
  {
   "cell_type": "markdown",
   "metadata": {},
   "source": [
    "### Plot a group\n",
    "\n",
    "As before we can plot a group using the same function as for S2, with minor changes. We now use ```vvvh``` as the property term, which denotes the ratio of polarisations under the given point. \n",
    "\n"
   ]
  },
  {
   "cell_type": "code",
   "execution_count": null,
   "metadata": {},
   "outputs": [],
   "source": [
    "plot_group(s1gdf, 'SQUARE', 637, 'VVVH')"
   ]
  },
  {
   "cell_type": "code",
   "execution_count": null,
   "metadata": {},
   "outputs": [],
   "source": []
  }
 ],
 "metadata": {
  "kernelspec": {
   "display_name": "Python [conda env:gee]",
   "language": "python",
   "name": "conda-env-gee-py"
  },
  "language_info": {
   "codemirror_mode": {
    "name": "ipython",
    "version": 3
   },
   "file_extension": ".py",
   "mimetype": "text/x-python",
   "name": "python",
   "nbconvert_exporter": "python",
   "pygments_lexer": "ipython3",
   "version": "3.8.8"
  }
 },
 "nbformat": 4,
 "nbformat_minor": 4
}
