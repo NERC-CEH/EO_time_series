{
 "cells": [
  {
   "cell_type": "markdown",
   "metadata": {},
   "source": [
    "## Make a sentinel 2 time series for field plots\n",
    "\n",
    "The following runs a few python functions to extract Sentinel 2 NDVI time series data from a point GIS files using google earth engine (GEE) and geopandas. This is potentially useful for looking at temporal patterns of NDVI for comparison with other variables and the spatial patterns therein. \n",
    "\n",
    "**Ensure you are running the correct kernel. Look at the top right  it should be [conda env:eot] as seen in the top right.** \n",
    "\n",
    "**If not, Kerner > Change kernel > eot from the menu.** \n",
    "\n",
    "The example is running on countryside survey data which may be accessed via the CEH environmental data centre. Though any geopandas readable point file should work. **Adjust the input dates according to your requirements.**\n",
    "\n",
    "https://eip.ceh.ac.uk/\n",
    "\n",
    "The data is returned as a dataframe as well as written to file and can be easily plotted using pandas native functions."
   ]
  },
  {
   "cell_type": "code",
   "execution_count": 1,
   "metadata": {},
   "outputs": [
    {
     "name": "stderr",
     "output_type": "stream",
     "text": [
      "/home/ciaran/anaconda3/envs/gee/lib/python3.8/site-packages/geopandas/_compat.py:106: UserWarning: The Shapely GEOS version (3.8.0-CAPI-1.13.1 ) is incompatible with the GEOS version PyGEOS was compiled with (3.9.0-CAPI-1.14.1). Conversions between both will be slow.\n",
      "  warnings.warn(\n"
     ]
    },
    {
     "ename": "ModuleNotFoundError",
     "evalue": "No module named 'xarray'",
     "output_type": "error",
     "traceback": [
      "\u001b[0;31m---------------------------------------------------------------------------\u001b[0m",
      "\u001b[0;31mModuleNotFoundError\u001b[0m                       Traceback (most recent call last)",
      "\u001b[0;32m<ipython-input-1-302e52e29f04>\u001b[0m in \u001b[0;36m<module>\u001b[0;34m\u001b[0m\n\u001b[1;32m      1\u001b[0m \u001b[0;32mfrom\u001b[0m \u001b[0msrc\u001b[0m\u001b[0;34m.\u001b[0m\u001b[0meotimeseries\u001b[0m \u001b[0;32mimport\u001b[0m \u001b[0mS2_ts\u001b[0m\u001b[0;34m,\u001b[0m\u001b[0m_points_to_pixel\u001b[0m\u001b[0;34m,\u001b[0m \u001b[0mplot_group\u001b[0m\u001b[0;34m\u001b[0m\u001b[0;34m\u001b[0m\u001b[0m\n\u001b[0;32m----> 2\u001b[0;31m \u001b[0;32mfrom\u001b[0m \u001b[0msrc\u001b[0m\u001b[0;34m.\u001b[0m\u001b[0mmet_tseries\u001b[0m \u001b[0;32mimport\u001b[0m \u001b[0mtseries_group\u001b[0m\u001b[0;34m\u001b[0m\u001b[0;34m\u001b[0m\u001b[0m\n\u001b[0m\u001b[1;32m      3\u001b[0m \u001b[0;32mimport\u001b[0m \u001b[0mgeopandas\u001b[0m \u001b[0;32mas\u001b[0m \u001b[0mgpd\u001b[0m\u001b[0;34m\u001b[0m\u001b[0;34m\u001b[0m\u001b[0m\n\u001b[1;32m      4\u001b[0m \u001b[0;32mimport\u001b[0m \u001b[0mpandas\u001b[0m \u001b[0;32mas\u001b[0m \u001b[0mpd\u001b[0m\u001b[0;34m\u001b[0m\u001b[0;34m\u001b[0m\u001b[0m\n\u001b[1;32m      5\u001b[0m \u001b[0;32mfrom\u001b[0m \u001b[0mmatplotlib\u001b[0m \u001b[0;32mimport\u001b[0m \u001b[0mpyplot\u001b[0m \u001b[0;32mas\u001b[0m \u001b[0mplt\u001b[0m\u001b[0;34m\u001b[0m\u001b[0;34m\u001b[0m\u001b[0m\n",
      "\u001b[0;32m~/EO_time_series/src/met_tseries.py\u001b[0m in \u001b[0;36m<module>\u001b[0;34m\u001b[0m\n\u001b[1;32m     15\u001b[0m \u001b[0;32mimport\u001b[0m \u001b[0mpandas\u001b[0m \u001b[0;32mas\u001b[0m \u001b[0mpd\u001b[0m\u001b[0;34m\u001b[0m\u001b[0;34m\u001b[0m\u001b[0m\n\u001b[1;32m     16\u001b[0m \u001b[0;31m#import matplotlib.pyplot as plt\u001b[0m\u001b[0;34m\u001b[0m\u001b[0;34m\u001b[0m\u001b[0;34m\u001b[0m\u001b[0m\n\u001b[0;32m---> 17\u001b[0;31m \u001b[0;32mimport\u001b[0m \u001b[0mxarray\u001b[0m \u001b[0;32mas\u001b[0m \u001b[0mxr\u001b[0m\u001b[0;34m\u001b[0m\u001b[0;34m\u001b[0m\u001b[0m\n\u001b[0m\u001b[1;32m     18\u001b[0m \u001b[0;32mimport\u001b[0m \u001b[0mgeopandas\u001b[0m \u001b[0;32mas\u001b[0m \u001b[0mgpd\u001b[0m\u001b[0;34m\u001b[0m\u001b[0;34m\u001b[0m\u001b[0m\n\u001b[1;32m     19\u001b[0m \u001b[0;32mfrom\u001b[0m \u001b[0mpyproj\u001b[0m \u001b[0;32mimport\u001b[0m \u001b[0mTransformer\u001b[0m\u001b[0;34m\u001b[0m\u001b[0;34m\u001b[0m\u001b[0m\n",
      "\u001b[0;31mModuleNotFoundError\u001b[0m: No module named 'xarray'"
     ]
    }
   ],
   "source": [
    "from src.eotimeseries import S2_ts,_points_to_pixel, plot_group, tseries_group\n",
    "import geopandas as gpd\n",
    "import pandas as pd\n",
    "from matplotlib import pyplot as plt\n",
    "import numpy as np"
   ]
  },
  {
   "cell_type": "markdown",
   "metadata": {},
   "source": [
    "Read in a point shapefile and define a name for the new one. \n",
    "\n",
    "**Please obtain the field survey data from CEH**"
   ]
  },
  {
   "cell_type": "code",
   "execution_count": null,
   "metadata": {},
   "outputs": [],
   "source": [
    "inShp = 'pathtomyfile.shp'\n",
    "\n",
    "outfile = 'example_NDVI_S2.shp'\n",
    "\n",
    "gdf = gpd.read_file(inShp)\n",
    "\n",
    "#sanity check\n",
    "gdf.head()"
   ]
  },
  {
   "cell_type": "markdown",
   "metadata": {},
   "source": [
    "Quickly plot the coords...."
   ]
  },
  {
   "cell_type": "code",
   "execution_count": null,
   "metadata": {},
   "outputs": [],
   "source": [
    "# Sanity check 2.....\n",
    "uk = gpd.read_file(\"uk.shp\")\n",
    "\n",
    "base = uk.plot(color='white', edgecolor='black', figsize=(8, 8))\n",
    "\n",
    "gdf.plot(ax=base, marker='o', color='red', markersize=5);\n"
   ]
  },
  {
   "cell_type": "markdown",
   "metadata": {},
   "source": [
    "The point coordinates should be converted to lat/lon for GEE if not in this format already. \n",
    "As this is a UK example we are going from OSGB to lat/lon.\n"
   ]
  },
  {
   "cell_type": "code",
   "execution_count": null,
   "metadata": {},
   "outputs": [],
   "source": [
    "lons, lats = _points_to_pixel(gdf, espgin='epsg:27700', espgout='epsg:4326')"
   ]
  },
  {
   "cell_type": "markdown",
   "metadata": {},
   "source": [
    "### Now to get the time series\n",
    "\n",
    "This returns a new geo-dataframe which includes the time series data as a variable and also writes a file to disk. \n",
    "\n",
    "The reason for inputting the original gdf from above is to retain the correct index for the shapefile for writing purposes. The secondary reason for this procedure is to avoid uploading any data to GEE directly, thus it is just anonamous coordinates.\n",
    "\n",
    "Some messages will appear updating progress of the task. \n",
    "\n",
    "Key params (most are self explanatory)\n",
    "- ```dist=20``` (the distance in metres from the point - for S2 either 10 or 20)\n",
    "- ```stat=max``` (the aggregate stat from which monthly NDVI is derived - either ```max``` or ```perc``` where perc is 95th percentile\n",
    "- ```collection=\"COPERNICUS/S2\"``` (the collection in question - for the year of interest we are limited to the TOA product, but for 2017 onwards the ```\"COPERNICUS/S2_SR\"``` or L2A surface reflectance are available.\n",
    "\n",
    "The cloud mask is not being used as there is a tendency to lose more data values than is necessary. \n"
   ]
  },
  {
   "cell_type": "code",
   "execution_count": null,
   "metadata": {},
   "outputs": [],
   "source": [
    "newdf = S2_ts(lons, lats, gdf, collection=\"COPERNICUS/S2\", start_date='2016-01-01',\n",
    "      end_date='2016-12-31', dist=20, cloud_mask=False, stat='max', \n",
    "      cloud_perc=100, para=True, outfile=outfile)"
   ]
  },
  {
   "cell_type": "markdown",
   "metadata": {},
   "source": [
    "Have a look and see the ndvi vals are there as expected - they will be under date headings."
   ]
  },
  {
   "cell_type": "code",
   "execution_count": null,
   "metadata": {},
   "outputs": [],
   "source": [
    "newdf.head()"
   ]
  },
  {
   "cell_type": "markdown",
   "metadata": {},
   "source": [
    "Now with a new gpd it is easy enough to plot the spatial pattern of ndvi. "
   ]
  },
  {
   "cell_type": "code",
   "execution_count": null,
   "metadata": {},
   "outputs": [],
   "source": [
    "fig, axes = plt.subplots(ncols=3, figsize=(10, 10))\n",
    "\n",
    "dates = [\"nd-03-31\", \"nd-05-31\", \"nd-11-30\"]\n",
    "\n",
    "for idx, d in enumerate(dates):\n",
    "\n",
    "    newdf.plot(column=d, ax=axes[idx], legend=True, legend_kwds={'orientation': \"horizontal\"})\n"
   ]
  },
  {
   "cell_type": "markdown",
   "metadata": {},
   "source": [
    "### Having processed gained ndvi attributes, it is easy to plot the ndvi time series with a bit of reshaping per survey area\n",
    "\n",
    "As we are using survey data where plots are grouped by the attribute \"SQUARE\", we can plot the ndvi time series for with a function in src with the function from src.\n",
    "```python\n",
    "plot_group(newdf, 'SQUARE', 637, 'nd')\n",
    "```\n",
    "Where:\n",
    "- ```SQUARE``` = the attribute to group by\n",
    "- ```637``` = the index of interest\n",
    "- ```nd``` =  the column keyword of interest eg 'nd' for NDVI\n",
    "\n",
    "It is more than likely the dips in values are due to the presence of clouds, which could be removed by some sort of filtering on the df or directly during the time series download.\n"
   ]
  },
  {
   "cell_type": "code",
   "execution_count": null,
   "metadata": {},
   "outputs": [],
   "source": [
    "plot_group(newdf, 'SQUARE', 637, 'nd')"
   ]
  },
  {
   "cell_type": "markdown",
   "metadata": {},
   "source": [
    "If you wish to see the possible square values to plot see below\n",
    "\n",
    "**This is of course unique to CS plots, but minor adaption could make it work for another attribute**"
   ]
  },
  {
   "cell_type": "code",
   "execution_count": null,
   "metadata": {},
   "outputs": [],
   "source": [
    "np.unique(newdf.SQUARE)"
   ]
  },
  {
   "cell_type": "code",
   "execution_count": null,
   "metadata": {},
   "outputs": [],
   "source": [
    "plot_group(newdf, 'SQUARE', 15, 'nd')"
   ]
  },
  {
   "cell_type": "markdown",
   "metadata": {},
   "source": [
    "### Extract a particular group from the  shapefile\n",
    "\n",
    "```python\n",
    "tseries_group(newdf, name, other_inds=None)\n",
    "```\n",
    "Where:\n",
    "- ```name``` = srting - the attribute to extract ('NDVI' in the case below)\n",
    "- ```other_inds``` = list -  additional attributes to extract for later indexing (not used here)\n",
    "\n",
    "With NDVI as generated in this notebook...."
   ]
  },
  {
   "cell_type": "code",
   "execution_count": null,
   "metadata": {},
   "outputs": [],
   "source": [
    "ndvi = tseries_group(newdf, 'ndvi', other_inds=None)"
   ]
  },
  {
   "cell_type": "markdown",
   "metadata": {},
   "source": [
    "Check it"
   ]
  },
  {
   "cell_type": "code",
   "execution_count": null,
   "metadata": {},
   "outputs": [],
   "source": [
    "ndvi.head()"
   ]
  }
 ],
 "metadata": {
  "kernelspec": {
   "display_name": "Python [conda env:gee]",
   "language": "python",
   "name": "conda-env-gee-py"
  },
  "language_info": {
   "codemirror_mode": {
    "name": "ipython",
    "version": 3
   },
   "file_extension": ".py",
   "mimetype": "text/x-python",
   "name": "python",
   "nbconvert_exporter": "python",
   "pygments_lexer": "ipython3",
   "version": "3.8.8"
  }
 },
 "nbformat": 4,
 "nbformat_minor": 4
}
