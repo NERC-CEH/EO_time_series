{
 "cells": [
  {
   "cell_type": "markdown",
   "metadata": {},
   "source": [
    "# Extract Met-office climate model data to point - shapefile\n",
    "\n",
    "The following notebook demonstrates how I have extracted climate model data (e.g. rainfall etc.) from netcdf to shapefile points. The goal of this process is to obtain monthly figures for these variables for each plot, similarly to the other notebook in this repo, which extracts NDVI for the same purpose.  \n",
    "\n",
    "The points in question here are Countryside survey data which may be accessed via the CEH environmental data centre (https://eip.ceh.ac.uk/).  "
   ]
  },
  {
   "cell_type": "code",
   "execution_count": null,
   "metadata": {},
   "outputs": [],
   "source": [
    "import os \n",
    "from glob2 import glob\n",
    "from src.downloader import dload, dloadbatch, setup_sesh\n",
    "from src.met_tseries import met_time_series\n",
    "from tqdm import tqdm"
   ]
  },
  {
   "cell_type": "markdown",
   "metadata": {},
   "source": [
    "## Download\n",
    "\n",
    "Firstly, we must obtain the relevant data, which is provided here to save the tedium of clicking through multiple pages to get it.\n",
    "\n",
    "First we setup our credentials to download the data by running the setup_sesh cmd\n",
    "\n",
    "**This will only work if you have registered with CEDA - ensure you have done so and replace the strings**"
   ]
  },
  {
   "cell_type": "code",
   "execution_count": null,
   "metadata": {},
   "outputs": [],
   "source": [
    "setup_sesh(\"mycedausrname\", \"mypasswrd\")"
   ]
  },
  {
   "cell_type": "markdown",
   "metadata": {},
   "source": [
    "Make a dir for it to go in."
   ]
  },
  {
   "cell_type": "code",
   "execution_count": null,
   "metadata": {},
   "outputs": [],
   "source": [
    "metdir = 'metdwn'\n",
    "if not os.path.isdir:\n",
    "    os.mkdir(metdir)"
   ]
  },
  {
   "cell_type": "markdown",
   "metadata": {},
   "source": [
    "A lazy way to obtain the URLs we need for each climate variable. For an explanation of what each one is see here:\n",
    "\n",
    "https://www.metoffice.gov.uk/research/climate/maps-and-data/data/haduk-grid/datasets\n",
    "\n",
    "We can resuse the climate var names later too..."
   ]
  },
  {
   "cell_type": "code",
   "execution_count": null,
   "metadata": {},
   "outputs": [],
   "source": [
    "# the rainfall one as a template\n",
    "rain_url = 'https://dap.ceda.ac.uk/badc/ukmo-hadobs/data/insitu/MOHC/HadOBS/HadUK-Grid/v1.0.1.0/1km/rainfall/mon/v20190808/rainfall_hadukgrid_uk_1km_mon_201601-201612.nc'\n",
    "\n",
    "# list of vars\n",
    "clim_vars = ['groundfrost', 'hurs', 'psl', 'pv', 'sfcWind', 'sun', 'tas']\n",
    "\n",
    "# final list of urls\n",
    "dwnlist = [rain_url.replace('rainfall', c) for c in clim_vars]\n",
    "\n",
    "# add the rainfall\n",
    "dwnlist.append(rain_url)\n",
    "clim_vars.append('rainfall')"
   ]
  },
  {
   "cell_type": "code",
   "execution_count": null,
   "metadata": {},
   "outputs": [],
   "source": [
    "# sanity.....\n",
    "print(dwnlist[0], clim_vars[0], '\\n', dwnlist[7], clim_vars[7])"
   ]
  },
  {
   "cell_type": "markdown",
   "metadata": {},
   "source": [
    "Now we can download the data - this also returns a list of the file paths to be used later. This may take a wee while......"
   ]
  },
  {
   "cell_type": "code",
   "execution_count": null,
   "metadata": {},
   "outputs": [],
   "source": [
    "imlist = dloadbatch(dwnlist, metdir)"
   ]
  },
  {
   "cell_type": "markdown",
   "metadata": {},
   "source": [
    "## Data extraction\n",
    "\n",
    "Using the CSS file that you will have obtained in advance - loop through the netcdfs adding the climate data."
   ]
  },
  {
   "cell_type": "code",
   "execution_count": null,
   "metadata": {},
   "outputs": [],
   "source": [
    "inShp = \"/home/ciaran/EO_time_series/testclean.shp\"\n",
    "\n",
    "for d,p in tqdm(zip(imlist, clim_vars)):\n",
    "    met_time_series(d, inShp, inShp, p) \n",
    "    "
   ]
  }
 ],
 "metadata": {
  "kernelspec": {
   "display_name": "Python [conda env:geolearn] *",
   "language": "python",
   "name": "conda-env-geolearn-py"
  },
  "language_info": {
   "codemirror_mode": {
    "name": "ipython",
    "version": 3
   },
   "file_extension": ".py",
   "mimetype": "text/x-python",
   "name": "python",
   "nbconvert_exporter": "python",
   "pygments_lexer": "ipython3",
   "version": "3.7.8"
  }
 },
 "nbformat": 4,
 "nbformat_minor": 4
}
